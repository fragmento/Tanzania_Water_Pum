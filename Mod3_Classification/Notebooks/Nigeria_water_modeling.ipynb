{
 "cells": [
  {
   "cell_type": "code",
   "execution_count": 1,
   "metadata": {},
   "outputs": [],
   "source": [
    "import pandas as pd \n",
    "import numpy as np\n",
    "import matplotlib.pyplot as plt\n",
    "import seaborn as sns\n",
    "%matplotlib inline  "
   ]
  },
  {
   "cell_type": "code",
   "execution_count": 2,
   "metadata": {},
   "outputs": [],
   "source": [
    "from sklearn.preprocessing import StandardScaler\n",
    "from sklearn.tree import DecisionTreeClassifier \n",
    "from sklearn.neighbors import KNeighborsClassifier\n",
    "from sklearn.model_selection import train_test_split\n",
    "from sklearn.metrics import classification_report, confusion_matrix\n",
    "from sklearn.model_selection import GridSearchCV\n",
    "from sklearn.ensemble import BaggingClassifier, RandomForestClassifier\n",
    "from sklearn import metrics \n",
    "#from sklearn.preprocessing import OneHotEncoder\n",
    "#from sklearn.utils import resample\n",
    "#from sklearn.compose import ColumnTransformer\n",
    "#from imblearn.pipeline import Pipeline\n",
    "#from sklearn.feature_extraction import DictVectorizer\n",
    "#from imblearn.over_sampling import SMOTE\n",
    "from sklearn.dummy import DummyClassifier"
   ]
  },
  {
   "cell_type": "code",
   "execution_count": 3,
   "metadata": {},
   "outputs": [],
   "source": [
    "Data = pd.read_csv('water_data-clean.csv')\n",
    "Data_test = pd.read_csv('water_data_clean_test.csv')"
   ]
  },
  {
   "cell_type": "code",
   "execution_count": 48,
   "metadata": {},
   "outputs": [
    {
     "name": "stdout",
     "output_type": "stream",
     "text": [
      "<class 'pandas.core.frame.DataFrame'>\n",
      "RangeIndex: 14850 entries, 0 to 14849\n",
      "Data columns (total 21 columns):\n",
      " #   Column             Non-Null Count  Dtype  \n",
      "---  ------             --------------  -----  \n",
      " 0   funder             13981 non-null  object \n",
      " 1   installer          14850 non-null  object \n",
      " 2   region             14850 non-null  object \n",
      " 3   public_meeting     14850 non-null  bool   \n",
      " 4   scheme_management  14850 non-null  object \n",
      " 5   permit             14850 non-null  bool   \n",
      " 6   construction_year  14850 non-null  int64  \n",
      " 7   extraction_type    14850 non-null  object \n",
      " 8   management         14850 non-null  object \n",
      " 9   payment            14850 non-null  object \n",
      " 10  water_quality      14850 non-null  object \n",
      " 11  quality_group      14850 non-null  object \n",
      " 12  quantity           14850 non-null  object \n",
      " 13  source_class       14850 non-null  object \n",
      " 14  waterpoint_type    14850 non-null  object \n",
      " 15  longitude_im       14850 non-null  float64\n",
      " 16  latitude_im        14850 non-null  float64\n",
      " 17  district_code_im   14850 non-null  float64\n",
      " 18  gps_height_im      14850 non-null  float64\n",
      " 19  population_im      14850 non-null  float64\n",
      " 20  daysago            14850 non-null  int64  \n",
      "dtypes: bool(2), float64(5), int64(2), object(12)\n",
      "memory usage: 2.2+ MB\n"
     ]
    }
   ],
   "source": [
    "Data_test.info()"
   ]
  },
  {
   "cell_type": "code",
   "execution_count": 5,
   "metadata": {},
   "outputs": [
    {
     "data": {
      "text/html": [
       "<div>\n",
       "<style scoped>\n",
       "    .dataframe tbody tr th:only-of-type {\n",
       "        vertical-align: middle;\n",
       "    }\n",
       "\n",
       "    .dataframe tbody tr th {\n",
       "        vertical-align: top;\n",
       "    }\n",
       "\n",
       "    .dataframe thead th {\n",
       "        text-align: right;\n",
       "    }\n",
       "</style>\n",
       "<table border=\"1\" class=\"dataframe\">\n",
       "  <thead>\n",
       "    <tr style=\"text-align: right;\">\n",
       "      <th></th>\n",
       "      <th>funder</th>\n",
       "      <th>installer</th>\n",
       "      <th>basin</th>\n",
       "      <th>subvillage</th>\n",
       "      <th>region</th>\n",
       "      <th>lga</th>\n",
       "      <th>ward</th>\n",
       "      <th>public_meeting</th>\n",
       "      <th>scheme_management</th>\n",
       "      <th>permit</th>\n",
       "      <th>...</th>\n",
       "      <th>quantity</th>\n",
       "      <th>source_class</th>\n",
       "      <th>waterpoint_type</th>\n",
       "      <th>status_group</th>\n",
       "      <th>longitude_im</th>\n",
       "      <th>latitude_im</th>\n",
       "      <th>district_code_im</th>\n",
       "      <th>gps_height_im</th>\n",
       "      <th>population_im</th>\n",
       "      <th>daysago</th>\n",
       "    </tr>\n",
       "  </thead>\n",
       "  <tbody>\n",
       "    <tr>\n",
       "      <th>0</th>\n",
       "      <td>other</td>\n",
       "      <td>other</td>\n",
       "      <td>Lake Nyasa</td>\n",
       "      <td>Mnyusi B</td>\n",
       "      <td>Iringa</td>\n",
       "      <td>Ludewa</td>\n",
       "      <td>Mundindi</td>\n",
       "      <td>True</td>\n",
       "      <td>VWC</td>\n",
       "      <td>False</td>\n",
       "      <td>...</td>\n",
       "      <td>enough</td>\n",
       "      <td>groundwater</td>\n",
       "      <td>communal standpipe</td>\n",
       "      <td>functional</td>\n",
       "      <td>34.938093</td>\n",
       "      <td>-9.856322</td>\n",
       "      <td>5.0</td>\n",
       "      <td>1390.0</td>\n",
       "      <td>109.0</td>\n",
       "      <td>3362</td>\n",
       "    </tr>\n",
       "  </tbody>\n",
       "</table>\n",
       "<p>1 rows × 26 columns</p>\n",
       "</div>"
      ],
      "text/plain": [
       "  funder installer       basin subvillage  region     lga      ward  \\\n",
       "0  other     other  Lake Nyasa   Mnyusi B  Iringa  Ludewa  Mundindi   \n",
       "\n",
       "   public_meeting scheme_management  permit  ...  quantity source_class  \\\n",
       "0            True               VWC   False  ...    enough  groundwater   \n",
       "\n",
       "      waterpoint_type status_group longitude_im latitude_im district_code_im  \\\n",
       "0  communal standpipe   functional    34.938093   -9.856322              5.0   \n",
       "\n",
       "  gps_height_im population_im daysago  \n",
       "0        1390.0         109.0    3362  \n",
       "\n",
       "[1 rows x 26 columns]"
      ]
     },
     "execution_count": 5,
     "metadata": {},
     "output_type": "execute_result"
    }
   ],
   "source": [
    "Data.head(1)"
   ]
  },
  {
   "cell_type": "code",
   "execution_count": 6,
   "metadata": {},
   "outputs": [],
   "source": [
    "#droping correlated  geografical featues leaving only longitude and latitude\n",
    "Data_drop = Data.drop(['subvillage','ward','lga','basin'],axis=1,inplace=True)\n",
    "\n",
    "Data_drop_test = Data_test.drop(['subvillage','ward','lga','basin'],axis=1,inplace=True)"
   ]
  },
  {
   "cell_type": "markdown",
   "metadata": {},
   "source": [
    "## X and y "
   ]
  },
  {
   "cell_type": "code",
   "execution_count": 7,
   "metadata": {},
   "outputs": [
    {
     "data": {
      "text/plain": [
       "(59400, 21)"
      ]
     },
     "execution_count": 7,
     "metadata": {},
     "output_type": "execute_result"
    }
   ],
   "source": [
    "X_train = Data.drop([\"status_group\"]  ,axis=1)\n",
    "y_train = Data[\"status_group\"]\n",
    "X_train.shape"
   ]
  },
  {
   "cell_type": "code",
   "execution_count": 8,
   "metadata": {},
   "outputs": [],
   "source": [
    "water_num = X_train.loc[:,((X_train.dtypes != np.object)&(X_train.dtypes != np.bool))]\n",
    "water_obj = X_train.loc[:,((X_train.dtypes == np.object)|(X_train.dtypes == np.bool))]\n",
    "\n",
    "water_num_test = Data_test.loc[:,((Data_test.dtypes != np.object)&(Data_test.dtypes != np.bool))] \n",
    "water_obj_test = Data_test.loc[:,((Data_test.dtypes == np.object)|(Data_test.dtypes == np.bool))]\n",
    "\n",
    "cat_att= list(water_obj)\n",
    "num_att= list(water_num)\n",
    "# num_att=['construction_year',\n",
    "#  'district_code_im',\n",
    "#  'gps_height_im',\n",
    "#  'population_im',\n",
    "#  'daysago']#excluding lon and lat from scaler\n"
   ]
  },
  {
   "cell_type": "markdown",
   "metadata": {},
   "source": [
    "## get dummies"
   ]
  },
  {
   "cell_type": "code",
   "execution_count": 9,
   "metadata": {},
   "outputs": [],
   "source": [
    "dummies = pd.get_dummies(water_obj)\n",
    "dummies_test = pd.get_dummies(water_obj_test)"
   ]
  },
  {
   "cell_type": "code",
   "execution_count": 10,
   "metadata": {},
   "outputs": [
    {
     "data": {
      "text/plain": [
       "(14850, 143)"
      ]
     },
     "execution_count": 10,
     "metadata": {},
     "output_type": "execute_result"
    }
   ],
   "source": [
    "X_train_dummie = pd.concat([water_num, dummies], axis=1)\n",
    "X_test_dummie =pd.concat([water_num_test, dummies_test], axis=1)\n",
    "X_test_dummie.shape"
   ]
  },
  {
   "cell_type": "markdown",
   "metadata": {},
   "source": [
    "## Dummy Classifier"
   ]
  },
  {
   "cell_type": "code",
   "execution_count": 12,
   "metadata": {},
   "outputs": [
    {
     "data": {
      "text/plain": [
       "0.5392592592592592"
      ]
     },
     "execution_count": 12,
     "metadata": {},
     "output_type": "execute_result"
    }
   ],
   "source": [
    "dclf = DummyClassifier(strategy = 'most_frequent', random_state = 0) \n",
    "dclf.fit(X_train, y_train) \n",
    "score = dclf.score(X_test, y_test) \n",
    "score"
   ]
  },
  {
   "cell_type": "code",
   "execution_count": 13,
   "metadata": {},
   "outputs": [
    {
     "data": {
      "text/plain": [
       "functional                 8008\n",
       "non functional             5780\n",
       "functional needs repair    1062\n",
       "Name: status_group, dtype: int64"
      ]
     },
     "execution_count": 13,
     "metadata": {},
     "output_type": "execute_result"
    }
   ],
   "source": [
    "y_test.value_counts()"
   ]
  },
  {
   "cell_type": "markdown",
   "metadata": {},
   "source": [
    "## KNN with only lat and long"
   ]
  },
  {
   "cell_type": "code",
   "execution_count": 14,
   "metadata": {},
   "outputs": [
    {
     "data": {
      "text/plain": [
       "(44550,)"
      ]
     },
     "execution_count": 14,
     "metadata": {},
     "output_type": "execute_result"
    }
   ],
   "source": [
    "y_train.shape"
   ]
  },
  {
   "cell_type": "code",
   "execution_count": 15,
   "metadata": {},
   "outputs": [],
   "source": [
    "X_train_lat_lon = X_train[['latitude_im','longitude_im']]\n",
    "X_test_lat_lon = X_test[['latitude_im','longitude_im']]"
   ]
  },
  {
   "cell_type": "code",
   "execution_count": 16,
   "metadata": {},
   "outputs": [
    {
     "data": {
      "text/plain": [
       "KNeighborsClassifier(algorithm='auto', leaf_size=30, metric='minkowski',\n",
       "                     metric_params=None, n_jobs=None, n_neighbors=10, p=2,\n",
       "                     weights='uniform')"
      ]
     },
     "execution_count": 16,
     "metadata": {},
     "output_type": "execute_result"
    }
   ],
   "source": [
    "knn = KNeighborsClassifier(n_neighbors=10)\n",
    "knn.fit(X_train_lat_lon, y_train)"
   ]
  },
  {
   "cell_type": "code",
   "execution_count": 67,
   "metadata": {},
   "outputs": [
    {
     "name": "stdout",
     "output_type": "stream",
     "text": [
      "Training F1 Score: 0.7094411253714862\n",
      "Training Acuracy Score: 0.723591470258137\n",
      "Testing F1 Score: 0.6619313116990926\n",
      "Testing Acuracy Score: 0.6773737373737374\n"
     ]
    }
   ],
   "source": [
    "#predict the training set\n",
    "y_pred_train_lon = knn.predict(X_train_lat_lon)\n",
    "y_pred_test_lon = knn.predict(X_test_lat_lon)\n",
    "\n",
    "print(\"Training F1 Score:\",metrics.f1_score(y_train, y_pred_train_lon,average='weighted'))\n",
    "print(\"Training Acuracy Score:\",metrics.accuracy_score(y_train, y_pred_train_lon))\n",
    "\n",
    "print(\"Testing F1 Score:\",metrics.f1_score(y_test, y_pred_test_lon,average='weighted'))\n",
    "print(\"Testing Acuracy Score:\",metrics.accuracy_score(y_test, y_pred_test_lon))"
   ]
  },
  {
   "cell_type": "code",
   "execution_count": 69,
   "metadata": {},
   "outputs": [
    {
     "data": {
      "text/plain": [
       "array([[6629,  112, 1267],\n",
       "       [ 625,  194,  243],\n",
       "       [2452,   92, 3236]])"
      ]
     },
     "execution_count": 69,
     "metadata": {},
     "output_type": "execute_result"
    }
   ],
   "source": [
    "confusion_matrix(y_test,y_pred_test_lon)"
   ]
  },
  {
   "cell_type": "markdown",
   "metadata": {
    "heading_collapsed": true
   },
   "source": [
    "## Randon Forest"
   ]
  },
  {
   "cell_type": "markdown",
   "metadata": {
    "heading_collapsed": true,
    "hidden": true
   },
   "source": [
    "### pipeline for onehot encode"
   ]
  },
  {
   "cell_type": "code",
   "execution_count": null,
   "metadata": {
    "hidden": true
   },
   "outputs": [],
   "source": [
    "num_pipe = Pipeline([('std_scaler', StandardScaler())])"
   ]
  },
  {
   "cell_type": "code",
   "execution_count": null,
   "metadata": {
    "hidden": true
   },
   "outputs": [],
   "source": [
    "full_pipeline = ColumnTransformer([('num', num_pipe, num_att),\n",
    "                                  ('cat',OneHotEncoder(), cat_att)])"
   ]
  },
  {
   "cell_type": "code",
   "execution_count": null,
   "metadata": {
    "hidden": true
   },
   "outputs": [],
   "source": [
    "X_train_pipe = full_pipeline.fit_transform(X_train)"
   ]
  },
  {
   "cell_type": "code",
   "execution_count": null,
   "metadata": {
    "hidden": true
   },
   "outputs": [],
   "source": [
    "train_x_encoded.columns = full_pipeline.get_feature_names(X_train)"
   ]
  },
  {
   "cell_type": "markdown",
   "metadata": {
    "heading_collapsed": true,
    "hidden": true
   },
   "source": [
    "### Train test split"
   ]
  },
  {
   "cell_type": "code",
   "execution_count": 11,
   "metadata": {
    "hidden": true
   },
   "outputs": [],
   "source": [
    "X_train, X_test, y_train, y_test = train_test_split(X_train_dummie, y_train, random_state=3)"
   ]
  },
  {
   "cell_type": "markdown",
   "metadata": {
    "heading_collapsed": true,
    "hidden": true
   },
   "source": [
    "### fit and predict "
   ]
  },
  {
   "cell_type": "code",
   "execution_count": null,
   "metadata": {
    "hidden": true
   },
   "outputs": [],
   "source": [
    "forest = RandomForestClassifier()\n",
    "forest.fit(X_train ,y_train)"
   ]
  },
  {
   "cell_type": "code",
   "execution_count": null,
   "metadata": {
    "hidden": true
   },
   "outputs": [],
   "source": [
    "#predict the training set\n",
    "y_pred_train = forest.predict(X_train)\n",
    "y_pred_test = forest.predict(X_test)\n",
    "\n",
    "print(\"Training F1 Score:\",metrics.f1_score(y_train, y_pred_train,average='weighted'))\n",
    "print(\"Training Acuracy Score:\",metrics.accuracy_score(y_train, y_pred_train))\n",
    "\n",
    "print(\"Testing F1 Score:\",metrics.f1_score(y_test, y_pred_test,average='weighted'))\n",
    "print(\"Testing Acuracy Score:\",metrics.accuracy_score(y_test, y_pred_test))"
   ]
  },
  {
   "cell_type": "code",
   "execution_count": null,
   "metadata": {
    "hidden": true
   },
   "outputs": [],
   "source": [
    "confusion_matrix(y_test, y_pred_test)"
   ]
  },
  {
   "cell_type": "code",
   "execution_count": null,
   "metadata": {
    "hidden": true
   },
   "outputs": [],
   "source": [
    "feature_importances = pd.DataFrame(forest.feature_importances_,\n",
    "                                   index = X_train.columns,\n",
    "                                    columns=['importance']).sort_values('importance',ascending=False)"
   ]
  },
  {
   "cell_type": "code",
   "execution_count": null,
   "metadata": {
    "hidden": true
   },
   "outputs": [],
   "source": [
    "feature_importances.head(15)"
   ]
  },
  {
   "cell_type": "markdown",
   "metadata": {},
   "source": [
    "## Grid Search"
   ]
  },
  {
   "cell_type": "code",
   "execution_count": 95,
   "metadata": {},
   "outputs": [],
   "source": [
    "rforest = RandomForestClassifier(n_jobs=-1,class_weight='balanced')"
   ]
  },
  {
   "cell_type": "code",
   "execution_count": 96,
   "metadata": {},
   "outputs": [],
   "source": [
    "param_grid = {'n_estimators':[250,500,650],\n",
    "             'max_depth':[100,150,200],\n",
    "             'min_samples_split':[4,5,6],\n",
    "              'criterion':['gini', 'entropy']\n",
    "              }"
   ]
  },
  {
   "cell_type": "code",
   "execution_count": 97,
   "metadata": {},
   "outputs": [],
   "source": [
    "gscv = GridSearchCV(estimator=rforest,\n",
    "                   param_grid=param_grid,\n",
    "                   scoring='f1_weighted',\n",
    "                   cv=3,\n",
    "                   n_jobs=-1,\n",
    "                   verbose=10)"
   ]
  },
  {
   "cell_type": "code",
   "execution_count": 98,
   "metadata": {},
   "outputs": [
    {
     "name": "stdout",
     "output_type": "stream",
     "text": [
      "Fitting 3 folds for each of 54 candidates, totalling 162 fits\n"
     ]
    },
    {
     "name": "stderr",
     "output_type": "stream",
     "text": [
      "[Parallel(n_jobs=-1)]: Using backend LokyBackend with 4 concurrent workers.\n",
      "[Parallel(n_jobs=-1)]: Done   5 tasks      | elapsed:  2.0min\n",
      "[Parallel(n_jobs=-1)]: Done  10 tasks      | elapsed:  3.0min\n",
      "[Parallel(n_jobs=-1)]: Done  17 tasks      | elapsed:  5.2min\n",
      "[Parallel(n_jobs=-1)]: Done  24 tasks      | elapsed:  7.0min\n",
      "[Parallel(n_jobs=-1)]: Done  33 tasks      | elapsed:  9.7min\n",
      "[Parallel(n_jobs=-1)]: Done  42 tasks      | elapsed: 14.0min\n",
      "[Parallel(n_jobs=-1)]: Done  53 tasks      | elapsed: 66.1min\n",
      "[Parallel(n_jobs=-1)]: Done  64 tasks      | elapsed: 250.7min\n",
      "[Parallel(n_jobs=-1)]: Done  77 tasks      | elapsed: 254.7min\n",
      "[Parallel(n_jobs=-1)]: Done  90 tasks      | elapsed: 258.7min\n",
      "[Parallel(n_jobs=-1)]: Done 105 tasks      | elapsed: 262.9min\n",
      "[Parallel(n_jobs=-1)]: Done 120 tasks      | elapsed: 267.3min\n",
      "[Parallel(n_jobs=-1)]: Done 137 tasks      | elapsed: 272.6min\n",
      "[Parallel(n_jobs=-1)]: Done 154 tasks      | elapsed: 278.1min\n",
      "[Parallel(n_jobs=-1)]: Done 162 out of 162 | elapsed: 280.4min finished\n"
     ]
    }
   ],
   "source": [
    "gs = gscv.fit(X_train,y_train)"
   ]
  },
  {
   "cell_type": "code",
   "execution_count": 99,
   "metadata": {},
   "outputs": [
    {
     "data": {
      "text/plain": [
       "RandomForestClassifier(bootstrap=True, ccp_alpha=0.0, class_weight='balanced',\n",
       "                       criterion='gini', max_depth=150, max_features='auto',\n",
       "                       max_leaf_nodes=None, max_samples=None,\n",
       "                       min_impurity_decrease=0.0, min_impurity_split=None,\n",
       "                       min_samples_leaf=1, min_samples_split=4,\n",
       "                       min_weight_fraction_leaf=0.0, n_estimators=650,\n",
       "                       n_jobs=-1, oob_score=False, random_state=None, verbose=0,\n",
       "                       warm_start=False)"
      ]
     },
     "execution_count": 99,
     "metadata": {},
     "output_type": "execute_result"
    }
   ],
   "source": [
    "gs.best_estimator_"
   ]
  },
  {
   "cell_type": "code",
   "execution_count": 100,
   "metadata": {},
   "outputs": [
    {
     "data": {
      "text/plain": [
       "0.7915280131438118"
      ]
     },
     "execution_count": 100,
     "metadata": {},
     "output_type": "execute_result"
    }
   ],
   "source": [
    "gs.best_score_"
   ]
  },
  {
   "cell_type": "code",
   "execution_count": 101,
   "metadata": {},
   "outputs": [
    {
     "data": {
      "text/plain": [
       "{'criterion': 'gini',\n",
       " 'max_depth': 150,\n",
       " 'min_samples_split': 4,\n",
       " 'n_estimators': 650}"
      ]
     },
     "execution_count": 101,
     "metadata": {},
     "output_type": "execute_result"
    }
   ],
   "source": [
    "gs.best_params_"
   ]
  },
  {
   "cell_type": "code",
   "execution_count": 102,
   "metadata": {},
   "outputs": [
    {
     "name": "stdout",
     "output_type": "stream",
     "text": [
      "Training F1 Score: 0.9771343458607524\n",
      "Training Acuracy Score: 0.9769472502805836\n",
      "Testing F1 Score: 0.8101954330860917\n",
      "Testing Acuracy Score: 0.8111111111111111\n"
     ]
    }
   ],
   "source": [
    "#predict the training set\n",
    "y_pred_train = gs.best_estimator_.predict(X_train)\n",
    "y_pred_test = gs.best_estimator_.predict(X_test)\n",
    "y_pred_test_competition = gs.best_estimator_.predict(X_test_dummie)\n",
    "\n",
    "print(\"Training F1 Score:\",metrics.f1_score(y_train, y_pred_train,average='weighted'))\n",
    "print(\"Training Acuracy Score:\",metrics.accuracy_score(y_train, y_pred_train))\n",
    "\n",
    "print(\"Testing F1 Score:\",metrics.f1_score(y_test, y_pred_test,average='weighted'))\n",
    "print(\"Testing Acuracy Score:\",metrics.accuracy_score(y_test, y_pred_test))"
   ]
  },
  {
   "cell_type": "code",
   "execution_count": 103,
   "metadata": {},
   "outputs": [
    {
     "data": {
      "text/plain": [
       "array([[6930,  383,  695],\n",
       "       [ 444,  478,  140],\n",
       "       [ 995,  148, 4637]])"
      ]
     },
     "execution_count": 103,
     "metadata": {},
     "output_type": "execute_result"
    }
   ],
   "source": [
    "confusion_matrix(y_test, y_pred_test)"
   ]
  },
  {
   "cell_type": "code",
   "execution_count": 104,
   "metadata": {},
   "outputs": [
    {
     "data": {
      "text/html": [
       "<div>\n",
       "<style scoped>\n",
       "    .dataframe tbody tr th:only-of-type {\n",
       "        vertical-align: middle;\n",
       "    }\n",
       "\n",
       "    .dataframe tbody tr th {\n",
       "        vertical-align: top;\n",
       "    }\n",
       "\n",
       "    .dataframe thead th {\n",
       "        text-align: right;\n",
       "    }\n",
       "</style>\n",
       "<table border=\"1\" class=\"dataframe\">\n",
       "  <thead>\n",
       "    <tr style=\"text-align: right;\">\n",
       "      <th></th>\n",
       "      <th>importance</th>\n",
       "    </tr>\n",
       "  </thead>\n",
       "  <tbody>\n",
       "    <tr>\n",
       "      <th>longitude_im</th>\n",
       "      <td>0.100007</td>\n",
       "    </tr>\n",
       "    <tr>\n",
       "      <th>latitude_im</th>\n",
       "      <td>0.098107</td>\n",
       "    </tr>\n",
       "    <tr>\n",
       "      <th>gps_height_im</th>\n",
       "      <td>0.088853</td>\n",
       "    </tr>\n",
       "    <tr>\n",
       "      <th>population_im</th>\n",
       "      <td>0.075168</td>\n",
       "    </tr>\n",
       "    <tr>\n",
       "      <th>daysago</th>\n",
       "      <td>0.072630</td>\n",
       "    </tr>\n",
       "    <tr>\n",
       "      <th>quantity_dry</th>\n",
       "      <td>0.053704</td>\n",
       "    </tr>\n",
       "    <tr>\n",
       "      <th>construction_year</th>\n",
       "      <td>0.046094</td>\n",
       "    </tr>\n",
       "    <tr>\n",
       "      <th>district_code_im</th>\n",
       "      <td>0.028376</td>\n",
       "    </tr>\n",
       "    <tr>\n",
       "      <th>quantity_enough</th>\n",
       "      <td>0.020165</td>\n",
       "    </tr>\n",
       "    <tr>\n",
       "      <th>extraction_type_other</th>\n",
       "      <td>0.019144</td>\n",
       "    </tr>\n",
       "    <tr>\n",
       "      <th>waterpoint_type_other</th>\n",
       "      <td>0.017697</td>\n",
       "    </tr>\n",
       "    <tr>\n",
       "      <th>extraction_type_gravity</th>\n",
       "      <td>0.016451</td>\n",
       "    </tr>\n",
       "    <tr>\n",
       "      <th>quantity_insufficient</th>\n",
       "      <td>0.014464</td>\n",
       "    </tr>\n",
       "    <tr>\n",
       "      <th>payment_never pay</th>\n",
       "      <td>0.012648</td>\n",
       "    </tr>\n",
       "    <tr>\n",
       "      <th>funder_other</th>\n",
       "      <td>0.010821</td>\n",
       "    </tr>\n",
       "  </tbody>\n",
       "</table>\n",
       "</div>"
      ],
      "text/plain": [
       "                         importance\n",
       "longitude_im               0.100007\n",
       "latitude_im                0.098107\n",
       "gps_height_im              0.088853\n",
       "population_im              0.075168\n",
       "daysago                    0.072630\n",
       "quantity_dry               0.053704\n",
       "construction_year          0.046094\n",
       "district_code_im           0.028376\n",
       "quantity_enough            0.020165\n",
       "extraction_type_other      0.019144\n",
       "waterpoint_type_other      0.017697\n",
       "extraction_type_gravity    0.016451\n",
       "quantity_insufficient      0.014464\n",
       "payment_never pay          0.012648\n",
       "funder_other               0.010821"
      ]
     },
     "execution_count": 104,
     "metadata": {},
     "output_type": "execute_result"
    }
   ],
   "source": [
    "feature_importances = pd.DataFrame(gs.best_estimator_.feature_importances_,\n",
    "                                   index = X_train.columns,\n",
    "                                    columns=['importance']).sort_values('importance',ascending=False)\n",
    "feature_importances.to_csv('feature_importances.csv', sep=',')\n",
    "best_features = feature_importances.head(15)\n",
    "best_features"
   ]
  },
  {
   "cell_type": "code",
   "execution_count": 105,
   "metadata": {},
   "outputs": [
    {
     "data": {
      "image/png": "[encoded data removed]",
      "text/plain": [
       "<Figure size 432x288 with 1 Axes>"
      ]
     },
     "metadata": {
      "needs_background": "light"
     },
     "output_type": "display_data"
    }
   ],
   "source": [
    "chart = sns.barplot(x=best_features.index.values, y='importance', data=best_features)\n",
    "chart.set_xticklabels(chart.get_xticklabels(), rotation=90);"
   ]
  },
  {
   "cell_type": "code",
   "execution_count": null,
   "metadata": {},
   "outputs": [],
   "source": []
  },
  {
   "cell_type": "code",
   "execution_count": null,
   "metadata": {},
   "outputs": [],
   "source": []
  },
  {
   "cell_type": "markdown",
   "metadata": {},
   "source": [
    "# make submision file"
   ]
  },
  {
   "cell_type": "code",
   "execution_count": 106,
   "metadata": {},
   "outputs": [],
   "source": [
    "test_submision = pd.read_csv('water_data_clean_test_2.csv')"
   ]
  },
  {
   "cell_type": "code",
   "execution_count": 107,
   "metadata": {},
   "outputs": [],
   "source": [
    "df = pd.DataFrame(data=y_pred_test_competition.flatten())"
   ]
  },
  {
   "cell_type": "code",
   "execution_count": 108,
   "metadata": {},
   "outputs": [],
   "source": [
    "result = pd.concat([test_submision, df], axis=1, sort=False)"
   ]
  },
  {
   "cell_type": "code",
   "execution_count": 109,
   "metadata": {},
   "outputs": [],
   "source": [
    "result =result[['id',0]]"
   ]
  },
  {
   "cell_type": "code",
   "execution_count": 110,
   "metadata": {},
   "outputs": [],
   "source": [
    "result.columns = ['id', 'status_group']"
   ]
  },
  {
   "cell_type": "code",
   "execution_count": 111,
   "metadata": {},
   "outputs": [],
   "source": [
    "result.to_csv('result_submision.csv', index=False)"
   ]
  },
  {
   "cell_type": "code",
   "execution_count": null,
   "metadata": {},
   "outputs": [],
   "source": []
  }
 ],
 "metadata": {
  "kernelspec": {
   "display_name": "Python 3",
   "language": "python",
   "name": "python3"
  },
  "language_info": {
   "codemirror_mode": {
    "name": "ipython",
    "version": 3
   },
   "file_extension": ".py",
   "mimetype": "text/x-python",
   "name": "python",
   "nbconvert_exporter": "python",
   "pygments_lexer": "ipython3",
   "version": "3.7.4"
  },
  "toc": {
   "base_numbering": 1,
   "nav_menu": {},
   "number_sections": true,
   "sideBar": true,
   "skip_h1_title": false,
   "title_cell": "Table of Contents",
   "title_sidebar": "Contents",
   "toc_cell": false,
   "toc_position": {},
   "toc_section_display": true,
   "toc_window_display": false
  }
 },
 "nbformat": 4,
 "nbformat_minor": 4
}
